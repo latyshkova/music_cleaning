{
 "cells": [
  {
   "cell_type": "code",
   "execution_count": 2,
   "metadata": {},
   "outputs": [],
   "source": [
    "from pydub import AudioSegment"
   ]
  },
  {
   "cell_type": "markdown",
   "metadata": {},
   "source": [
    "AngelaThomasWade_MilkCowBlues"
   ]
  },
  {
   "cell_type": "code",
   "execution_count": 9,
   "metadata": {},
   "outputs": [],
   "source": [
    "path = 'data/unmixed/'\n",
    "track_name = input('Enter the name of the track: ') # чтобы точно не забыть\n",
    "\n",
    "audio1 = AudioSegment.from_wav(path + '01_Kick.wav')\n",
    "audio2 = AudioSegment.from_wav(path + '02_Snare.wav')\n",
    "audio3 = AudioSegment.from_wav(path + '03_Tom.wav')\n",
    "audio4 = AudioSegment.from_wav(path + '04_Overheads.wav')\n",
    "audio5 = AudioSegment.from_wav(path + '05_Bass.wav')\n",
    "audio6 = AudioSegment.from_wav(path + '06_AcGtr.wav')\n",
    "audio7 = AudioSegment.from_wav(path + '07_Dobro.wav')\n",
    "audio8 = AudioSegment.from_wav(path + '08_ElecGtr.wav')\n",
    "audio9 = AudioSegment.from_wav(path + '09_Fiddle.wav')\n",
    "audio10 = AudioSegment.from_wav(path + '10_Piano.wav')\n",
    "\n",
    "vocals = AudioSegment.from_wav(path + '11_LeadVox.wav')"
   ]
  },
  {
   "cell_type": "code",
   "execution_count": 10,
   "metadata": {},
   "outputs": [
    {
     "data": {
      "text/plain": [
       "<_io.BufferedRandom name='mini_dataset/vocals/AngelaThomasWade_MilkCowBlues_Full_vocals.wav'>"
      ]
     },
     "execution_count": 10,
     "metadata": {},
     "output_type": "execute_result"
    }
   ],
   "source": [
    "mixed_audio = audio1.overlay(audio2).overlay(audio3).overlay(audio4).overlay(audio5).overlay(audio6).overlay(audio7).overlay(audio8).overlay(audio9).overlay(audio10).overlay(vocals)\n",
    "mixed_audio.export('mini_dataset/mixed/' + track_name + '_mixed.wav', format=\"wav\")\n",
    "vocals.export('mini_dataset/vocals/' + track_name + '_vocals.wav', format=\"wav\")"
   ]
  },
  {
   "cell_type": "markdown",
   "metadata": {},
   "source": [
    "AbletonesBigBand_CorineCorine"
   ]
  },
  {
   "cell_type": "code",
   "execution_count": 11,
   "metadata": {},
   "outputs": [],
   "source": [
    "path = 'data/unmixed/'\n",
    "track_name = input('Enter the name of the track: ') # чтобы точно не забыть\n",
    "\n",
    "audio1 = AudioSegment.from_wav(path + 'ROOM STEREO R - C24 w TFUNK CK12 - Neve 33102.wav')\n",
    "\n",
    "vocals = AudioSegment.from_wav(path + 'LEAD VOX - U48 - Neve 33102.wav')"
   ]
  },
  {
   "cell_type": "code",
   "execution_count": 12,
   "metadata": {},
   "outputs": [
    {
     "data": {
      "text/plain": [
       "<_io.BufferedRandom name='mini_dataset/vocals/AbletonesBigBand_CorineCorine_vocals.wav'>"
      ]
     },
     "execution_count": 12,
     "metadata": {},
     "output_type": "execute_result"
    }
   ],
   "source": [
    "mixed_audio = audio1.overlay(vocals)\n",
    "mixed_audio.export('mini_dataset/mixed/' + track_name + '_mixed.wav', format=\"wav\")\n",
    "vocals.export('mini_dataset/vocals/' + track_name + '_vocals.wav', format=\"wav\")"
   ]
  },
  {
   "cell_type": "markdown",
   "metadata": {},
   "source": [
    "Triviul_Alright"
   ]
  },
  {
   "cell_type": "code",
   "execution_count": 13,
   "metadata": {},
   "outputs": [],
   "source": [
    "path = 'data/unmixed/Triviul_Alright/'\n",
    "track_name = input('Enter the name of the track: ') # чтобы точно не забыть"
   ]
  },
  {
   "cell_type": "code",
   "execution_count": 14,
   "metadata": {},
   "outputs": [],
   "source": [
    "instr1 = AudioSegment.from_wav(path + '01_Drums.wav')\n",
    "instr2 = AudioSegment.from_wav(path + '02_Cymbals.wav')\n",
    "instr3 = AudioSegment.from_wav(path + '03_Percussion.wav')\n",
    "instr4 = AudioSegment.from_wav(path + '04_Bass1.wav')\n",
    "instr5 = AudioSegment.from_wav(path + '05_Bass2.wav')\n",
    "instr6 = AudioSegment.from_wav(path + '06_Guitar.wav')\n",
    "instr7 = AudioSegment.from_wav(path + '07_SynthsAndSFX.wav')\n",
    "instr8 = AudioSegment.from_wav(path + '08_Strings.wav')\n",
    "\n",
    "vocal1 = AudioSegment.from_wav(path + '09_VerseVox1.wav')\n",
    "vocal2 = AudioSegment.from_wav(path + '10_VerseVox2.wav')\n",
    "vocal3 = AudioSegment.from_wav(path + '11_VerseVox3.wav')\n",
    "vocal4 = AudioSegment.from_wav(path + '12_VerseVox4.wav')\n",
    "vocal5 = AudioSegment.from_wav(path + '13_VerseVox5.wav')\n",
    "vocal6 = AudioSegment.from_wav(path + '14_VerseVox6.wav')\n",
    "vocal7 = AudioSegment.from_wav(path + '15_ChorusVox1.wav')\n",
    "vocal8 = AudioSegment.from_wav(path + '16_ChorusVox2.wav')"
   ]
  },
  {
   "cell_type": "code",
   "execution_count": 15,
   "metadata": {},
   "outputs": [
    {
     "data": {
      "text/plain": [
       "<_io.BufferedRandom name='mini_dataset/vocals/Triviul_Alright_vocals.wav'>"
      ]
     },
     "execution_count": 15,
     "metadata": {},
     "output_type": "execute_result"
    }
   ],
   "source": [
    "vocals = vocal1.overlay(vocal2).overlay(vocal2).overlay(vocal3).overlay(vocal4).overlay(vocal5).overlay(vocal6).overlay(vocal7).overlay(vocal8)\n",
    "mixed_audio = instr1.overlay(instr2).overlay(instr3).overlay(instr4).overlay(instr5).overlay(instr6).overlay(instr7).overlay(instr8).overlay(vocals)\n",
    "\n",
    "mixed_audio.export('mini_dataset/mixed/' + track_name + '_mixed.wav', format=\"wav\")\n",
    "vocals.export('mini_dataset/vocals/' + track_name + '_vocals.wav', format=\"wav\")"
   ]
  }
 ],
 "metadata": {
  "kernelspec": {
   "display_name": ".venv",
   "language": "python",
   "name": "python3"
  },
  "language_info": {
   "codemirror_mode": {
    "name": "ipython",
    "version": 3
   },
   "file_extension": ".py",
   "mimetype": "text/x-python",
   "name": "python",
   "nbconvert_exporter": "python",
   "pygments_lexer": "ipython3",
   "version": "3.12.7"
  }
 },
 "nbformat": 4,
 "nbformat_minor": 2
}
