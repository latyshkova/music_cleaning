{
 "cells": [
  {
   "cell_type": "code",
   "execution_count": 2,
   "metadata": {},
   "outputs": [],
   "source": [
    "from pydub import AudioSegment"
   ]
  },
  {
   "cell_type": "code",
   "execution_count": null,
   "metadata": {},
   "outputs": [],
   "source": [
    "path = 'test_data/AbletonesBigBand_CorineCorine_Full/'\n",
    "\n",
    "audio1 = AudioSegment.from_wav(path + 'ROOM STEREO R - C24 w TFUNK CK12 - Neve 33102.wav')\n",
    "vocals = AudioSegment.from_wav(path + 'LEAD VOX - U48 - Neve 33102.wav')"
   ]
  },
  {
   "cell_type": "code",
   "execution_count": 5,
   "metadata": {},
   "outputs": [
    {
     "data": {
      "text/plain": [
       "<_io.BufferedRandom name='mini_dataset/vocals/AbletonesBigBand_CorineCorine_Full_vocals.wav'>"
      ]
     },
     "execution_count": 5,
     "metadata": {},
     "output_type": "execute_result"
    }
   ],
   "source": [
    "mixed_audio = audio1.overlay(vocals)\n",
    "mixed_audio.export(\"mini_dataset/mixed/AbletonesBigBand_CorineCorine_Full\"+'_mixed.wav', format=\"wav\")\n",
    "vocals.export(\"mini_dataset/vocals/AbletonesBigBand_CorineCorine_Full\"+'_vocals.wav', format=\"wav\")"
   ]
  }
 ],
 "metadata": {
  "kernelspec": {
   "display_name": ".venv",
   "language": "python",
   "name": "python3"
  },
  "language_info": {
   "codemirror_mode": {
    "name": "ipython",
    "version": 3
   },
   "file_extension": ".py",
   "mimetype": "text/x-python",
   "name": "python",
   "nbconvert_exporter": "python",
   "pygments_lexer": "ipython3",
   "version": "3.12.7"
  }
 },
 "nbformat": 4,
 "nbformat_minor": 2
}
