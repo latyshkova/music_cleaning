{
 "cells": [
  {
   "cell_type": "code",
   "execution_count": null,
   "metadata": {},
   "outputs": [],
   "source": [
    "from google.colab import drive\n",
    "drive.mount('/content/drive', force_remount=True)"
   ]
  },
  {
   "cell_type": "code",
   "execution_count": null,
   "metadata": {},
   "outputs": [],
   "source": [
    "!pip install pydub"
   ]
  },
  {
   "cell_type": "code",
   "execution_count": null,
   "metadata": {},
   "outputs": [],
   "source": [
    "from pydub import AudioSegment\n",
    "from IPython.display import Audio\n",
    "\n",
    "import os\n",
    "import re"
   ]
  },
  {
   "cell_type": "code",
   "execution_count": 3,
   "metadata": {},
   "outputs": [],
   "source": [
    "path = '/content/drive/MyDrive/self_education/UML/project_music_denoising/data'"
   ]
  },
  {
   "cell_type": "code",
   "execution_count": 4,
   "metadata": {},
   "outputs": [
    {
     "data": {
      "text/plain": [
       "'/content/drive/MyDrive/self_education/UML/project_music_denoising/data'"
      ]
     },
     "execution_count": 4,
     "metadata": {},
     "output_type": "execute_result"
    }
   ],
   "source": [
    "path"
   ]
  },
  {
   "cell_type": "markdown",
   "metadata": {},
   "source": [
    "Собираем все в один трек без шума"
   ]
  },
  {
   "cell_type": "code",
   "execution_count": null,
   "metadata": {},
   "outputs": [],
   "source": [
    "loading_path = os.path.join(path, 'raw_tracks')\n",
    "saving_path = os.path.join(path, 'mix_tracks')"
   ]
  },
  {
   "cell_type": "markdown",
   "metadata": {},
   "source": [
    "функция, которая принимает путь до трека и название трека (название папки, где лежат отдельные дорожки) и УДАЛЯЕТ ненужные файлы (в ридми.тхт только лицензионная информация, треки с '._' пока не понимаю зачем нужны)"
   ]
  },
  {
   "cell_type": "code",
   "execution_count": null,
   "metadata": {},
   "outputs": [],
   "source": [
    "def remove_trash(path, track):\n",
    "  load_path = os.path.join(path, track)\n",
    "  print('trash removed from: ' + load_path)\n",
    "  os.chdir(path)\n",
    "\n",
    "  # удаляем треки с '._'\n",
    "  pattern = f\".*{re.escape('._')}.*\"\n",
    "  matching_files = [file for file in os.listdir() if re.search(pattern, file)]\n",
    "  for file in matching_files:\n",
    "      file_path = os.path.join(load_path, file)\n",
    "      os.remove(file_path)\n",
    "\n",
    "  # удаляем readme.txt\n",
    "  readme_path = os.path.join(load_path, 'Readme.txt')\n",
    "  if os.path.exists(readme_path):\n",
    "    os.remove(readme_path)"
   ]
  },
  {
   "cell_type": "markdown",
   "metadata": {},
   "source": [
    "функция, которая принимает путь до трека и название трека (название папки, где лежат отдельные дорожки) и СОБИРАЕТ ЕГО В ОДНУ ДОРОЖКУ, а затем сохраняет в папке mix_tracks"
   ]
  },
  {
   "cell_type": "code",
   "execution_count": null,
   "metadata": {},
   "outputs": [],
   "source": [
    "def track_mix(path, track, save_path):\n",
    "  load_path = os.path.join(path, track)\n",
    "  print('processing track from here: ' + load_path)\n",
    "  os.chdir(load_path)\n",
    "\n",
    "  # собираем все в один трек\n",
    "  file_names = os.listdir()\n",
    "  # print(file_names)\n",
    "  for i in range(len(file_names) - 1):\n",
    "    if i < 1:\n",
    "      file_path_1 = os.path.join(load_path, file_names[i])\n",
    "      file_path_2 = os.path.join(load_path, file_names[i+1])\n",
    "      audio1 = AudioSegment.from_wav(file_path_1)\n",
    "      audio2 = AudioSegment.from_wav(file_path_2)\n",
    "      mixed_audio = audio1.overlay(audio2)\n",
    "    else:\n",
    "      audio_next = AudioSegment.from_wav(os.path.join(load_path, file_names[i+1]))\n",
    "      mixed_audio = mixed_audio.overlay(audio_next)\n",
    "\n",
    "  # сохраняем в папку mix_tracks под названием трека (работает пока странно, через раз, еще не разобралась. треки иногда появляются с задержкой по времени)\n",
    "\n",
    "  mixed_audio.export(os.path.join(save_path, track), format=\"wav\")\n",
    "  # return mixed_audio # можно включить, тогда в коллабе появится возможность прослушать собранный трек\n"
   ]
  },
  {
   "cell_type": "markdown",
   "metadata": {},
   "source": [
    "собираю функцию, которая соберет все песни, которые есть в директории"
   ]
  },
  {
   "cell_type": "code",
   "execution_count": null,
   "metadata": {},
   "outputs": [],
   "source": [
    "def mix_all_tracks(load_path, save_path):\n",
    "  os.chdir(load_path)\n",
    "  contents = os.listdir()\n",
    "  print(load_path, contents)\n",
    "\n",
    "  # можно сделать кастомный track_names, перечислив списком названия треков, которые хочешь собрать\n",
    "\n",
    "  # убираем лишнее\n",
    "  track_names = os.listdir()\n",
    "  for track in track_names:\n",
    "    remove_trash(load_path, track)\n",
    "\n",
    "  # объединяем треки\n",
    "  track_names = os.listdir()\n",
    "  for track in track_names:\n",
    "    track_mix(load_path, track, save_path)\n",
    "\n",
    "  # возможно стоит все таки по отдельности пользоваться\n"
   ]
  },
  {
   "cell_type": "code",
   "execution_count": null,
   "metadata": {},
   "outputs": [],
   "source": [
    "mix_all_tracks(loading_path, saving_path)"
   ]
  }
 ],
 "metadata": {
  "kernelspec": {
   "display_name": "base",
   "language": "python",
   "name": "python3"
  },
  "language_info": {
   "codemirror_mode": {
    "name": "ipython",
    "version": 3
   },
   "file_extension": ".py",
   "mimetype": "text/x-python",
   "name": "python",
   "nbconvert_exporter": "python",
   "pygments_lexer": "ipython3",
   "version": "3.12.7"
  }
 },
 "nbformat": 4,
 "nbformat_minor": 2
}
